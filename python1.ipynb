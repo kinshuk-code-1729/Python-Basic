{
  "nbformat": 4,
  "nbformat_minor": 0,
  "metadata": {
    "colab": {
      "provenance": [],
      "authorship_tag": "ABX9TyOxpHCIo23UWunEmwVwDL+Z",
      "include_colab_link": true
    },
    "kernelspec": {
      "name": "python3",
      "display_name": "Python 3"
    },
    "language_info": {
      "name": "python"
    }
  },
  "cells": [
    {
      "cell_type": "markdown",
      "metadata": {
        "id": "view-in-github",
        "colab_type": "text"
      },
      "source": [
        "<a href=\"https://colab.research.google.com/github/kinshuk-code-1729/Python-Basic/blob/main/python1.ipynb\" target=\"_parent\"><img src=\"https://colab.research.google.com/assets/colab-badge.svg\" alt=\"Open In Colab\"/></a>"
      ]
    },
    {
      "cell_type": "markdown",
      "metadata": {
        "id": "KLB1hQAVBjPO"
      },
      "source": [
        "###**My first Revision of Python**"
      ]
    },
    {
      "cell_type": "code",
      "metadata": {
        "colab": {
          "base_uri": "https://localhost:8080/"
        },
        "id": "jxyJZE_hC3Qn",
        "outputId": "3be117ae-3ec9-4b36-87de-af406a002dbd"
      },
      "source": [
        "x=9  #Orphan Object or Hard Code\n",
        "print(x)\n",
        "print(\"Memory Address of x : \",id(a))\n",
        "print(\"Type of x : \",type(x))"
      ],
      "execution_count": null,
      "outputs": [
        {
          "output_type": "stream",
          "name": "stdout",
          "text": [
            "9\n",
            "Memory Address of x :  139656142082336\n",
            "Type of x :  <class 'int'>\n"
          ]
        }
      ]
    },
    {
      "cell_type": "code",
      "metadata": {
        "colab": {
          "base_uri": "https://localhost:8080/"
        },
        "id": "ZM8vvnNxD2Kn",
        "outputId": "ca5c55e4-8b60-47c5-d8ce-2eddc29de273"
      },
      "source": [
        "x,y,_=78,56,45\n",
        "print(\"x = \",x,\"\\ty = \",y,\"\\t_ = \",_)"
      ],
      "execution_count": null,
      "outputs": [
        {
          "output_type": "stream",
          "name": "stdout",
          "text": [
            "x =  78 \ty =  56 \t_ =  45\n"
          ]
        }
      ]
    },
    {
      "cell_type": "code",
      "metadata": {
        "colab": {
          "base_uri": "https://localhost:8080/"
        },
        "id": "sZNP1wdOFF_O",
        "outputId": "b385b2b4-4ff3-4c48-98cf-142462dd728c"
      },
      "source": [
        "*x,y,z=78,56,45,89,32,97\n",
        "print(\"x = \",x,\"\\ty = \",y,\"\\tz = \",z)"
      ],
      "execution_count": null,
      "outputs": [
        {
          "output_type": "stream",
          "name": "stdout",
          "text": [
            "x =  [78, 56, 45, 89] \ty =  32 \tz =  97\n"
          ]
        }
      ]
    },
    {
      "cell_type": "code",
      "metadata": {
        "colab": {
          "base_uri": "https://localhost:8080/"
        },
        "id": "Cfm2-ezRFm5O",
        "outputId": "b74b593f-fc86-489c-8a06-a8d601ff56f0"
      },
      "source": [
        "# FIRST CODE FOR PYTHON REVISION\n",
        "# WAP To Swap to Numbers if the 1st number is greater than 2nd number\n",
        "x=int(input(\"Enter x : \"))\n",
        "y=int(input(\"Enter y : \"))\n",
        "if y<x:\n",
        "  x,y=y,x\n",
        "  print(\"Values are swapped\")\n",
        "  print(\"x = \",x,\" y = \",y)\n",
        "else:\n",
        "  print(\"Values not swapped\")\n",
        "  print(\"x = \",x,\" y = \",y) "
      ],
      "execution_count": null,
      "outputs": [
        {
          "output_type": "stream",
          "name": "stdout",
          "text": [
            "Enter x : 56\n",
            "Enter y : 33\n",
            "Values are swapped\n",
            "x =  33  y =  56\n"
          ]
        }
      ]
    },
    {
      "cell_type": "code",
      "metadata": {
        "colab": {
          "base_uri": "https://localhost:8080/"
        },
        "id": "FHFGb2rFJ6iW",
        "outputId": "dcfd10a2-c336-40e5-9c72-a17550556de4"
      },
      "source": [
        "# WAP to find greater number between two numbers\n",
        "x=int(input(\"Enter x : \"))\n",
        "y=int(input(\"Enter y : \"))\n",
        "if x>y:\n",
        "  print(x,\" is greater\")\n",
        "elif x==y:\n",
        "  print(\"Both numbers are equal\")\n",
        "else : print(y,\" is greater\")"
      ],
      "execution_count": null,
      "outputs": [
        {
          "output_type": "stream",
          "name": "stdout",
          "text": [
            "Enter x : 100\n",
            "Enter y : 500\n",
            "500  is greater\n"
          ]
        }
      ]
    },
    {
      "cell_type": "code",
      "metadata": {
        "colab": {
          "base_uri": "https://localhost:8080/"
        },
        "id": "PuAS-KEpE2S7",
        "outputId": "7cedbad1-a881-4e9a-ec83-e507795c3b2e"
      },
      "source": [
        "# WAP To Check Whether a year is leap or not\n",
        "y=int(input(\"Enter Any Year : \")) \n",
        "if y % 4 == 0 and y % 100 != 0: \n",
        "  print(y,\"is a leap year\")\n",
        "elif y%400==0 :\n",
        "  print(y,\"is a leap year\")\n",
        "else :\n",
        "  print(y,\"is not a leap year\")"
      ],
      "execution_count": null,
      "outputs": [
        {
          "output_type": "stream",
          "name": "stdout",
          "text": [
            "Enter Any Year : 2100\n",
            "2100 is not a leap year\n"
          ]
        }
      ]
    },
    {
      "cell_type": "code",
      "metadata": {
        "colab": {
          "base_uri": "https://localhost:8080/"
        },
        "id": "bnL8tGKdSxOD",
        "outputId": "4775d56b-8e0b-44f2-c244-eb1e1dfd40a4"
      },
      "source": [
        "#@title\n",
        "# WAP To Multiply Two USER-DEFINED Numbers until either of the number becomes zero on decrementing the numbers by 1\n",
        "x=int(input(\"Enter num 1 : \"))\n",
        "y=int(input(\"Enter num 2 : \"))\n",
        "while(y and x)>0:\n",
        "  z=x*y;\n",
        "  print(x,\"X\",y,\"=\",z)\n",
        "  x-=1\n",
        "  y-=1"
      ],
      "execution_count": null,
      "outputs": [
        {
          "output_type": "stream",
          "name": "stdout",
          "text": [
            "Enter num 1 : 6\n",
            "Enter num 2 : 5\n",
            "6 X 5 = 30\n",
            "5 X 4 = 20\n",
            "4 X 3 = 12\n",
            "3 X 2 = 6\n",
            "2 X 1 = 2\n"
          ]
        }
      ]
    }
  ]
}